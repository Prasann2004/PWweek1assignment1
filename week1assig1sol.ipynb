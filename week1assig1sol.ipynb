{
 "cells": [
  {
   "cell_type": "code",
   "execution_count": 1,
   "id": "b315c06e",
   "metadata": {},
   "outputs": [],
   "source": [
    "#Q1\n",
    "#(i)\n",
    "a=\"Prasann\"\n",
    "#(ii)\n",
    "b=[1,2,3]\n",
    "#(iii)\n",
    "c=5.6\n",
    "#(iv)\n",
    "d={1:'abc'}"
   ]
  },
  {
   "cell_type": "markdown",
   "id": "be37104c",
   "metadata": {},
   "source": [
    "Q2\n",
    "(i)string\n",
    "(ii)string\n",
    "(iii)list\n",
    "(iv)integer\n"
   ]
  },
  {
   "cell_type": "code",
   "execution_count": 2,
   "id": "84c8ad2f",
   "metadata": {
    "scrolled": true
   },
   "outputs": [
    {
     "name": "stdout",
     "output_type": "stream",
     "text": [
      "1.6666666666666667\n",
      "1\n",
      "2\n",
      "25\n"
     ]
    },
    {
     "data": {
      "text/plain": [
       "'Output: 25'"
      ]
     },
     "execution_count": 2,
     "metadata": {},
     "output_type": "execute_result"
    }
   ],
   "source": [
    "#Q3\n",
    "'''(i)/ is used division in python.Eg:'''\n",
    "print(5/3)\n",
    "'''Output: 1.6666666666666667'''\n",
    "\n",
    "'''(ii)% is used to find the remainder in python.Eg:'''\n",
    "print(5%2)\n",
    "'''Output: 1'''\n",
    "\n",
    "'''(iii)// is used to find the floor value of division.Eg:'''\n",
    "print(5//2)\n",
    "'''Output: 2'''\n",
    "\n",
    "'''(iv)** is ued to find the power.Eg:'''\n",
    "print(5**2)\n",
    "'''Output: 25'''"
   ]
  },
  {
   "cell_type": "code",
   "execution_count": 3,
   "id": "56f490ff",
   "metadata": {},
   "outputs": [
    {
     "name": "stdout",
     "output_type": "stream",
     "text": [
      "1 <class 'int'>\n",
      "(2+1j) <class 'complex'>\n",
      "3 <class 'int'>\n",
      "[] <class 'list'>\n",
      "5 <class 'int'>\n",
      "6 <class 'int'>\n",
      "a <class 'str'>\n",
      "8 <class 'int'>\n",
      "2.5 <class 'float'>\n",
      "10 <class 'int'>\n"
     ]
    }
   ],
   "source": [
    "#Q4\n",
    "l1=[1,2+1j,3,[],5,6,'a',8,2.5,10]\n",
    "for i in l1:\n",
    "    print(i,type(i))"
   ]
  },
  {
   "cell_type": "code",
   "execution_count": 9,
   "id": "0ec2a462",
   "metadata": {},
   "outputs": [
    {
     "name": "stdout",
     "output_type": "stream",
     "text": [
      "A: 25\n",
      "B: 5\n",
      "25 divisible by 5\n",
      "5 divides 25 , 2 times\n"
     ]
    }
   ],
   "source": [
    "#Q5\n",
    "a=int(input(\"A: \"))\n",
    "b=int(input(\"B: \"))\n",
    "n=0\n",
    "k=a\n",
    "if a%b==0:\n",
    "    print(a,\"divisible by\",b)\n",
    "    while(a%b==0):\n",
    "        n+=1\n",
    "        a/=b\n",
    "    print(b,\"divides\",k,\",\",n,\"times\")"
   ]
  },
  {
   "cell_type": "code",
   "execution_count": 10,
   "id": "83a42042",
   "metadata": {},
   "outputs": [
    {
     "name": "stdout",
     "output_type": "stream",
     "text": [
      "0 is divisible by 3.\n",
      "1 is not divisible by 3.\n",
      "2 is not divisible by 3.\n",
      "3 is divisible by 3.\n",
      "4 is not divisible by 3.\n",
      "5 is not divisible by 3.\n",
      "6 is divisible by 3.\n",
      "7 is not divisible by 3.\n",
      "8 is not divisible by 3.\n",
      "9 is divisible by 3.\n",
      "10 is not divisible by 3.\n",
      "11 is not divisible by 3.\n",
      "12 is divisible by 3.\n",
      "13 is not divisible by 3.\n",
      "14 is not divisible by 3.\n",
      "15 is divisible by 3.\n",
      "16 is not divisible by 3.\n",
      "17 is not divisible by 3.\n",
      "18 is divisible by 3.\n",
      "19 is not divisible by 3.\n",
      "20 is not divisible by 3.\n",
      "21 is divisible by 3.\n",
      "22 is not divisible by 3.\n",
      "23 is not divisible by 3.\n",
      "24 is divisible by 3.\n"
     ]
    }
   ],
   "source": [
    "#Q6\n",
    "I=list(range(0,25,1))\n",
    "for i in range(0,25,1):\n",
    "    if I[i]%3==0:\n",
    "        print(i,\"is divisible by 3.\")\n",
    "    else:\n",
    "        print(i,\"is not divisible by 3.\")"
   ]
  },
  {
   "cell_type": "code",
   "execution_count": 12,
   "id": "b3b06ce1",
   "metadata": {},
   "outputs": [
    {
     "name": "stdout",
     "output_type": "stream",
     "text": [
      "2\n"
     ]
    },
    {
     "ename": "TypeError",
     "evalue": "'str' object does not support item assignment",
     "output_type": "error",
     "traceback": [
      "\u001b[1;31m---------------------------------------------------------------------------\u001b[0m",
      "\u001b[1;31mTypeError\u001b[0m                                 Traceback (most recent call last)",
      "Cell \u001b[1;32mIn[12], line 9\u001b[0m\n\u001b[0;32m      7\u001b[0m \u001b[38;5;124;03m'''Unmutable data types are datatypes those values can not be changed after declaration.Eg:'''\u001b[39;00m\n\u001b[0;32m      8\u001b[0m h\u001b[38;5;241m=\u001b[39m\u001b[38;5;124m'\u001b[39m\u001b[38;5;124ma\u001b[39m\u001b[38;5;124m'\u001b[39m\n\u001b[1;32m----> 9\u001b[0m \u001b[43mh\u001b[49m\u001b[43m[\u001b[49m\u001b[38;5;241;43m0\u001b[39;49m\u001b[43m]\u001b[49m\u001b[38;5;241m=\u001b[39m\u001b[38;5;124m'\u001b[39m\u001b[38;5;124mb\u001b[39m\u001b[38;5;124m'\u001b[39m\n",
      "\u001b[1;31mTypeError\u001b[0m: 'str' object does not support item assignment"
     ]
    }
   ],
   "source": [
    "#Q7\n",
    "'''Mutable data types are datatypes those values can be changed after declaration.Eg:'''\n",
    "S=1\n",
    "S=2\n",
    "print(S)\n",
    "#Output: 2\n",
    "'''Unmutable data types are datatypes those values can not be changed after declaration.Eg:'''\n",
    "h='a'\n",
    "h[0]='b'\n",
    "#Output: TypeError: 'str' object does not support item assignment\n"
   ]
  },
  {
   "cell_type": "code",
   "execution_count": null,
   "id": "b9fb6231",
   "metadata": {},
   "outputs": [],
   "source": []
  }
 ],
 "metadata": {
  "kernelspec": {
   "display_name": "Python 3 (ipykernel)",
   "language": "python",
   "name": "python3"
  },
  "language_info": {
   "codemirror_mode": {
    "name": "ipython",
    "version": 3
   },
   "file_extension": ".py",
   "mimetype": "text/x-python",
   "name": "python",
   "nbconvert_exporter": "python",
   "pygments_lexer": "ipython3",
   "version": "3.11.1"
  }
 },
 "nbformat": 4,
 "nbformat_minor": 5
}
